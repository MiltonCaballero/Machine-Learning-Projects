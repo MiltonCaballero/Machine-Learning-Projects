{
 "cells": [
  {
   "cell_type": "code",
   "execution_count": 68,
   "metadata": {},
   "outputs": [],
   "source": [
    "# Import libraries\n",
    "import pandas as pd\n",
    "import numpy as np\n",
    "\n",
    "# Read in the `clicks.csv` file as `abdata`\n",
    "abdata = pd.read_csv('clicks.csv')"
   ]
  },
  {
   "cell_type": "code",
   "execution_count": 69,
   "metadata": {},
   "outputs": [
    {
     "data": {
      "text/html": [
       "<div>\n",
       "<style scoped>\n",
       "    .dataframe tbody tr th:only-of-type {\n",
       "        vertical-align: middle;\n",
       "    }\n",
       "\n",
       "    .dataframe tbody tr th {\n",
       "        vertical-align: top;\n",
       "    }\n",
       "\n",
       "    .dataframe thead th {\n",
       "        text-align: right;\n",
       "    }\n",
       "</style>\n",
       "<table border=\"1\" class=\"dataframe\">\n",
       "  <thead>\n",
       "    <tr style=\"text-align: right;\">\n",
       "      <th></th>\n",
       "      <th>user_id</th>\n",
       "      <th>group</th>\n",
       "      <th>is_purchase</th>\n",
       "    </tr>\n",
       "  </thead>\n",
       "  <tbody>\n",
       "    <tr>\n",
       "      <th>0</th>\n",
       "      <td>8e27bf9a</td>\n",
       "      <td>A</td>\n",
       "      <td>No</td>\n",
       "    </tr>\n",
       "    <tr>\n",
       "      <th>1</th>\n",
       "      <td>eb89e6f0</td>\n",
       "      <td>A</td>\n",
       "      <td>No</td>\n",
       "    </tr>\n",
       "    <tr>\n",
       "      <th>2</th>\n",
       "      <td>7119106a</td>\n",
       "      <td>A</td>\n",
       "      <td>No</td>\n",
       "    </tr>\n",
       "    <tr>\n",
       "      <th>3</th>\n",
       "      <td>e53781ff</td>\n",
       "      <td>A</td>\n",
       "      <td>No</td>\n",
       "    </tr>\n",
       "    <tr>\n",
       "      <th>4</th>\n",
       "      <td>02d48cf1</td>\n",
       "      <td>A</td>\n",
       "      <td>Yes</td>\n",
       "    </tr>\n",
       "  </tbody>\n",
       "</table>\n",
       "</div>"
      ],
      "text/plain": [
       "    user_id group is_purchase\n",
       "0  8e27bf9a     A          No\n",
       "1  eb89e6f0     A          No\n",
       "2  7119106a     A          No\n",
       "3  e53781ff     A          No\n",
       "4  02d48cf1     A         Yes"
      ]
     },
     "execution_count": 69,
     "metadata": {},
     "output_type": "execute_result"
    }
   ],
   "source": [
    "abdata.head()"
   ]
  },
  {
   "cell_type": "code",
   "execution_count": 70,
   "metadata": {},
   "outputs": [
    {
     "data": {
      "text/html": [
       "<div>\n",
       "<style scoped>\n",
       "    .dataframe tbody tr th:only-of-type {\n",
       "        vertical-align: middle;\n",
       "    }\n",
       "\n",
       "    .dataframe tbody tr th {\n",
       "        vertical-align: top;\n",
       "    }\n",
       "\n",
       "    .dataframe thead th {\n",
       "        text-align: right;\n",
       "    }\n",
       "</style>\n",
       "<table border=\"1\" class=\"dataframe\">\n",
       "  <thead>\n",
       "    <tr style=\"text-align: right;\">\n",
       "      <th>is_purchase</th>\n",
       "      <th>No</th>\n",
       "      <th>Yes</th>\n",
       "    </tr>\n",
       "    <tr>\n",
       "      <th>group</th>\n",
       "      <th></th>\n",
       "      <th></th>\n",
       "    </tr>\n",
       "  </thead>\n",
       "  <tbody>\n",
       "    <tr>\n",
       "      <th>A</th>\n",
       "      <td>1350</td>\n",
       "      <td>316</td>\n",
       "    </tr>\n",
       "    <tr>\n",
       "      <th>B</th>\n",
       "      <td>1483</td>\n",
       "      <td>183</td>\n",
       "    </tr>\n",
       "    <tr>\n",
       "      <th>C</th>\n",
       "      <td>1583</td>\n",
       "      <td>83</td>\n",
       "    </tr>\n",
       "  </tbody>\n",
       "</table>\n",
       "</div>"
      ],
      "text/plain": [
       "is_purchase    No  Yes\n",
       "group                 \n",
       "A            1350  316\n",
       "B            1483  183\n",
       "C            1583   83"
      ]
     },
     "execution_count": 70,
     "metadata": {},
     "output_type": "execute_result"
    }
   ],
   "source": [
    "Xtab = pd.crosstab(abdata.group, abdata.is_purchase)\n",
    "Xtab"
   ]
  },
  {
   "cell_type": "code",
   "execution_count": 71,
   "metadata": {},
   "outputs": [
    {
     "data": {
      "text/plain": [
       "2.4126213546684264e-35"
      ]
     },
     "execution_count": 71,
     "metadata": {},
     "output_type": "execute_result"
    }
   ],
   "source": [
    "from scipy.stats import chi2_contingency\n",
    "\n",
    "chi2, pval, dof, expected = chi2_contingency(Xtab)\n",
    "pval "
   ]
  },
  {
   "cell_type": "markdown",
   "metadata": {},
   "source": [
    "Our day is a little less busy than expected, so we decide to ask Brian about his test.\n",
    "\n",
    "Us: Hey Brian! What was that test you were running anyway?\n",
    "\n",
    "Brian: We are trying to get users to purchase a small FarmBurg upgrade package. It’s called a microtransaction. We’re not sure how much to charge for it, so we tested three different price points: $0.99 (group 'A'), $1.99 (group 'B'), and $4.99 (group 'C'). It looks like significantly more people bought the upgrade package for $0.99, so I guess that’s what we’ll charge.\n",
    "\n",
    "Us: Oh no! We should have asked you this before we did that Chi-Square test. That wasn’t the right test at all. It’s true that more people wanted to purchase the upgrade at $0.99; you probably expected that. What we really want to know is whether each price point allows us to make enough money that we can exceed some target goal. Brian, how much do you think it cost to build this feature?\n",
    "\n",
    "Brian: Hmm. I guess that we need to generate a minimum of $1000 in revenue per week in order to justify this project.\n",
    "\n",
    "Us: We have some work to do!\n",
    "\n",
    "In order to justify this feature, we will need to calculate the necessary purchase rate for each price point. Let’s start by calculating the number of visitors to the site this week.\n",
    "\n",
    "It turns out that Brian ran his original test over the course of a week, so the number of visitors in abdata is equal to the number of visitors in a typical week."
   ]
  },
  {
   "cell_type": "code",
   "execution_count": 72,
   "metadata": {},
   "outputs": [
    {
     "data": {
      "text/plain": [
       "4998"
      ]
     },
     "execution_count": 72,
     "metadata": {},
     "output_type": "execute_result"
    }
   ],
   "source": [
    "num_visits = len(abdata)\n",
    "num_visits"
   ]
  },
  {
   "cell_type": "code",
   "execution_count": 73,
   "metadata": {},
   "outputs": [
    {
     "data": {
      "text/plain": [
       "1011.0"
      ]
     },
     "execution_count": 73,
     "metadata": {},
     "output_type": "execute_result"
    }
   ],
   "source": [
    "num_sales_needed_099 = np.ceil(1000/0.99)\n",
    "num_sales_needed_099"
   ]
  },
  {
   "cell_type": "code",
   "execution_count": 74,
   "metadata": {},
   "outputs": [
    {
     "name": "stdout",
     "output_type": "stream",
     "text": [
      "The proportion of weekly visitors needed at 0.99$ is 20.228091236494596 %\n"
     ]
    }
   ],
   "source": [
    "p_sales_needed_099 = num_sales_needed_099/num_visits*100\n",
    "print(\"The proportion of weekly visitors needed at 0.99$ is {} %\".format(p_sales_needed_099))"
   ]
  },
  {
   "cell_type": "code",
   "execution_count": 75,
   "metadata": {},
   "outputs": [
    {
     "name": "stdout",
     "output_type": "stream",
     "text": [
      "The proportion of weekly visitors needed at 1.99$ is 10.064025610244096 %\n",
      "The proportion of weekly visitors needed at 4.99$ is 4.021608643457383 %\n"
     ]
    }
   ],
   "source": [
    "num_sales_needed_199 = np.ceil(1000/1.99)\n",
    "num_sales_needed_499 = np.ceil(1000/4.99)\n",
    "p_sales_needed_199 = num_sales_needed_199/num_visits*100\n",
    "print(\"The proportion of weekly visitors needed at 1.99$ is {} %\".format(p_sales_needed_199))\n",
    "p_sales_needed_499 = num_sales_needed_499/num_visits*100\n",
    "print(\"The proportion of weekly visitors needed at 4.99$ is {} %\".format(p_sales_needed_499))\n"
   ]
  },
  {
   "cell_type": "code",
   "execution_count": 76,
   "metadata": {},
   "outputs": [
    {
     "name": "stdout",
     "output_type": "stream",
     "text": [
      "1666\n",
      "316\n"
     ]
    }
   ],
   "source": [
    "samp_size_099 = np.sum(abdata.group == 'A')\n",
    "print(samp_size_099)\n",
    "sales_099 = np.sum((abdata.group == 'A') & (abdata.is_purchase == 'Yes'))\n",
    "print(sales_099)"
   ]
  },
  {
   "cell_type": "code",
   "execution_count": 77,
   "metadata": {},
   "outputs": [],
   "source": [
    "samp_size_199 = np.sum(abdata.group == 'B')\n",
    "sales_199 = np.sum((abdata.group == 'B') & (abdata.is_purchase == 'Yes'))\n",
    "samp_size_499 = np.sum(abdata.group == 'C')\n",
    "sales_499 = np.sum((abdata.group == 'C') & (abdata.is_purchase == 'Yes'))"
   ]
  },
  {
   "cell_type": "code",
   "execution_count": 79,
   "metadata": {},
   "outputs": [
    {
     "name": "stdout",
     "output_type": "stream",
     "text": [
      "The P value for group A is : 0.9058887362654583 \n",
      "The P value for group B is : 0.1144181543112181 \n",
      "The P value for group C is : 0.029642608610084484 \n"
     ]
    },
    {
     "name": "stderr",
     "output_type": "stream",
     "text": [
      "/var/folders/gp/z7c4652d4dn7qywk191zpjtr0000gn/T/ipykernel_2245/32223872.py:3: DeprecationWarning: 'binom_test' is deprecated in favour of 'binomtest' from version 1.7.0 and will be removed in Scipy 1.12.0.\n",
      "  pvalueA = binom_test(sales_099,samp_size_099,p_sales_needed_099/100,alternative='greater')\n",
      "/var/folders/gp/z7c4652d4dn7qywk191zpjtr0000gn/T/ipykernel_2245/32223872.py:5: DeprecationWarning: 'binom_test' is deprecated in favour of 'binomtest' from version 1.7.0 and will be removed in Scipy 1.12.0.\n",
      "  pvalueB = binom_test(sales_199,samp_size_199,p_sales_needed_199/100,alternative='greater')\n",
      "/var/folders/gp/z7c4652d4dn7qywk191zpjtr0000gn/T/ipykernel_2245/32223872.py:7: DeprecationWarning: 'binom_test' is deprecated in favour of 'binomtest' from version 1.7.0 and will be removed in Scipy 1.12.0.\n",
      "  pvalueC = binom_test(sales_499,samp_size_499,p_sales_needed_499/100,alternative='greater')\n"
     ]
    }
   ],
   "source": [
    "from scipy.stats import binom_test\n",
    "\n",
    "pvalueA = binom_test(sales_099,samp_size_099,p_sales_needed_099/100,alternative='greater')\n",
    "print(\"The P value for group A is : {} \".format(pvalueA))\n",
    "pvalueB = binom_test(sales_199,samp_size_199,p_sales_needed_199/100,alternative='greater')\n",
    "print(\"The P value for group B is : {} \".format(pvalueB))\n",
    "pvalueC = binom_test(sales_499,samp_size_499,p_sales_needed_499/100,alternative='greater')\n",
    "print(\"The P value for group C is : {} \".format(pvalueC))\n"
   ]
  },
  {
   "cell_type": "markdown",
   "metadata": {},
   "source": [
    "pvalueC is the only p-value below the threshold of 0.05. Therefore, the C group is the only group where we would conclude that the purchase rate is significantly higher than the target needed to reach $1000 revenue per week.\n",
    "\n",
    "Therefore, Brian should charge $4.99 for the upgrade."
   ]
  }
 ],
 "metadata": {
  "kernelspec": {
   "display_name": "base",
   "language": "python",
   "name": "python3"
  },
  "language_info": {
   "codemirror_mode": {
    "name": "ipython",
    "version": 3
   },
   "file_extension": ".py",
   "mimetype": "text/x-python",
   "name": "python",
   "nbconvert_exporter": "python",
   "pygments_lexer": "ipython3",
   "version": "3.11.5"
  }
 },
 "nbformat": 4,
 "nbformat_minor": 2
}
